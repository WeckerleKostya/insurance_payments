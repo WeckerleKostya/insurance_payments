{
 "cells": [
  {
   "cell_type": "markdown",
   "id": "5058b737",
   "metadata": {},
   "source": [
    "# Описание проекта\n",
    "\n",
    "* Компания: \"Хоть потоп\"\n",
    "* Сфера деятельности: страхование\n",
    "\n",
    "* Цель: построить модель линейной регрессии, прогнозирующую количество страховых выплат.\n",
    "\n",
    "* Задачи:\n",
    "    - Предложить алгоритм преобразования данных с целью защиты персональных свеедений, который не повлияет на модель линейной регрессии;\n",
    "    - Построить модели на непреобразованных и преобразованных данных и показать, что R^2 не отличается;\n",
    "    - Дать теоретическое обоснование работы данного алгоритма.\n",
    "\n",
    "* Данные о клиентах страховой компании:\n",
    "    - Пол\n",
    "    - Возраст\n",
    "    - Заработная плата застрахованного\n",
    "    - Количество членов семьи"
   ]
  },
  {
   "cell_type": "code",
   "execution_count": 1,
   "id": "e8021a7f",
   "metadata": {},
   "outputs": [],
   "source": [
    "import pandas as pd\n",
    "import numpy as np\n",
    "from sklearn.linear_model import LinearRegression\n",
    "from sklearn.model_selection import train_test_split\n",
    "from numpy.random import RandomState\n",
    "from sklearn.metrics import r2_score"
   ]
  },
  {
   "cell_type": "markdown",
   "id": "8d5061e3",
   "metadata": {},
   "source": [
    "## 1. Загрузка и подготовка данных к анализу"
   ]
  },
  {
   "cell_type": "markdown",
   "id": "489112e8",
   "metadata": {},
   "source": [
    "### 1.1 Загрузка  данных"
   ]
  },
  {
   "cell_type": "code",
   "execution_count": 2,
   "id": "94d49265",
   "metadata": {
    "scrolled": false
   },
   "outputs": [
    {
     "name": "stdout",
     "output_type": "stream",
     "text": [
      "Вывод первых 5 строк из таблицы с данными.\n"
     ]
    },
    {
     "data": {
      "text/html": [
       "<div>\n",
       "<style scoped>\n",
       "    .dataframe tbody tr th:only-of-type {\n",
       "        vertical-align: middle;\n",
       "    }\n",
       "\n",
       "    .dataframe tbody tr th {\n",
       "        vertical-align: top;\n",
       "    }\n",
       "\n",
       "    .dataframe thead th {\n",
       "        text-align: right;\n",
       "    }\n",
       "</style>\n",
       "<table border=\"1\" class=\"dataframe\">\n",
       "  <thead>\n",
       "    <tr style=\"text-align: right;\">\n",
       "      <th></th>\n",
       "      <th>Пол</th>\n",
       "      <th>Возраст</th>\n",
       "      <th>Зарплата</th>\n",
       "      <th>Члены семьи</th>\n",
       "      <th>Страховые выплаты</th>\n",
       "    </tr>\n",
       "  </thead>\n",
       "  <tbody>\n",
       "    <tr>\n",
       "      <th>0</th>\n",
       "      <td>1</td>\n",
       "      <td>41.0</td>\n",
       "      <td>49600.0</td>\n",
       "      <td>1</td>\n",
       "      <td>0</td>\n",
       "    </tr>\n",
       "    <tr>\n",
       "      <th>1</th>\n",
       "      <td>0</td>\n",
       "      <td>46.0</td>\n",
       "      <td>38000.0</td>\n",
       "      <td>1</td>\n",
       "      <td>1</td>\n",
       "    </tr>\n",
       "    <tr>\n",
       "      <th>2</th>\n",
       "      <td>0</td>\n",
       "      <td>29.0</td>\n",
       "      <td>21000.0</td>\n",
       "      <td>0</td>\n",
       "      <td>0</td>\n",
       "    </tr>\n",
       "    <tr>\n",
       "      <th>3</th>\n",
       "      <td>0</td>\n",
       "      <td>21.0</td>\n",
       "      <td>41700.0</td>\n",
       "      <td>2</td>\n",
       "      <td>0</td>\n",
       "    </tr>\n",
       "    <tr>\n",
       "      <th>4</th>\n",
       "      <td>1</td>\n",
       "      <td>28.0</td>\n",
       "      <td>26100.0</td>\n",
       "      <td>0</td>\n",
       "      <td>0</td>\n",
       "    </tr>\n",
       "  </tbody>\n",
       "</table>\n",
       "</div>"
      ],
      "text/plain": [
       "   Пол  Возраст  Зарплата  Члены семьи  Страховые выплаты\n",
       "0    1     41.0   49600.0            1                  0\n",
       "1    0     46.0   38000.0            1                  1\n",
       "2    0     29.0   21000.0            0                  0\n",
       "3    0     21.0   41700.0            2                  0\n",
       "4    1     28.0   26100.0            0                  0"
      ]
     },
     "metadata": {},
     "output_type": "display_data"
    },
    {
     "name": "stdout",
     "output_type": "stream",
     "text": [
      "\n",
      "Общая информация\n",
      "<class 'pandas.core.frame.DataFrame'>\n",
      "RangeIndex: 5000 entries, 0 to 4999\n",
      "Data columns (total 5 columns):\n",
      " #   Column             Non-Null Count  Dtype  \n",
      "---  ------             --------------  -----  \n",
      " 0   Пол                5000 non-null   int64  \n",
      " 1   Возраст            5000 non-null   float64\n",
      " 2   Зарплата           5000 non-null   float64\n",
      " 3   Члены семьи        5000 non-null   int64  \n",
      " 4   Страховые выплаты  5000 non-null   int64  \n",
      "dtypes: float64(2), int64(3)\n",
      "memory usage: 195.4 KB\n"
     ]
    }
   ],
   "source": [
    "# Загрузка данных\n",
    "try:\n",
    "    df = pd.read_csv('insurance.csv')\n",
    "except:\n",
    "    df = pd.read_csv('/datasets/insurance.csv')\n",
    "    \n",
    "print('Вывод первых 5 строк из таблицы с данными.')\n",
    "display(df.head())\n",
    "print()\n",
    "print('Общая информация')\n",
    "df.info()"
   ]
  },
  {
   "cell_type": "code",
   "execution_count": 3,
   "id": "d6e048ed",
   "metadata": {},
   "outputs": [],
   "source": [
    "# Для удобства переименуем столбцы\n",
    "df.columns = ['sex', 'age', 'wage', 'n_family', 'n_insurance_payments']"
   ]
  },
  {
   "cell_type": "markdown",
   "id": "3e8e88c9",
   "metadata": {},
   "source": [
    "### 1.2 Подготовка данных к анализу"
   ]
  },
  {
   "cell_type": "code",
   "execution_count": 4,
   "id": "fb550c48",
   "metadata": {},
   "outputs": [],
   "source": [
    "# Выделим признаки и целевой показатель\n",
    "features = df.drop('n_insurance_payments', axis = 1)\n",
    "target = df['n_insurance_payments']"
   ]
  },
  {
   "cell_type": "markdown",
   "id": "c87c671d",
   "metadata": {},
   "source": [
    "### Краткие выводы по разделу 1\n",
    "* Данные выгружены корректно.\n",
    "* В данных отсуствуют пропуски.\n",
    "* Типы данных соответствуют смыслу этих характеристик.\n",
    "* Для удобства название характеристик (столбцов) были зменены, чтобы не использовать кириллицу.\n",
    "* **Данные не требуют специальной предобработки**.\n",
    "* Данные были разбиты на характеристики и целевой признак"
   ]
  },
  {
   "cell_type": "code",
   "execution_count": 5,
   "id": "6f856736",
   "metadata": {
    "scrolled": true
   },
   "outputs": [
    {
     "data": {
      "text/html": [
       "<div>\n",
       "<style scoped>\n",
       "    .dataframe tbody tr th:only-of-type {\n",
       "        vertical-align: middle;\n",
       "    }\n",
       "\n",
       "    .dataframe tbody tr th {\n",
       "        vertical-align: top;\n",
       "    }\n",
       "\n",
       "    .dataframe thead th {\n",
       "        text-align: right;\n",
       "    }\n",
       "</style>\n",
       "<table border=\"1\" class=\"dataframe\">\n",
       "  <thead>\n",
       "    <tr style=\"text-align: right;\">\n",
       "      <th></th>\n",
       "      <th>sex</th>\n",
       "      <th>age</th>\n",
       "      <th>wage</th>\n",
       "      <th>n_family</th>\n",
       "      <th>n_insurance_payments</th>\n",
       "    </tr>\n",
       "  </thead>\n",
       "  <tbody>\n",
       "    <tr>\n",
       "      <th>count</th>\n",
       "      <td>5000.000000</td>\n",
       "      <td>5000.000000</td>\n",
       "      <td>5000.000000</td>\n",
       "      <td>5000.000000</td>\n",
       "      <td>5000.000000</td>\n",
       "    </tr>\n",
       "    <tr>\n",
       "      <th>mean</th>\n",
       "      <td>0.499000</td>\n",
       "      <td>30.952800</td>\n",
       "      <td>39916.360000</td>\n",
       "      <td>1.194200</td>\n",
       "      <td>0.148000</td>\n",
       "    </tr>\n",
       "    <tr>\n",
       "      <th>std</th>\n",
       "      <td>0.500049</td>\n",
       "      <td>8.440807</td>\n",
       "      <td>9900.083569</td>\n",
       "      <td>1.091387</td>\n",
       "      <td>0.463183</td>\n",
       "    </tr>\n",
       "    <tr>\n",
       "      <th>min</th>\n",
       "      <td>0.000000</td>\n",
       "      <td>18.000000</td>\n",
       "      <td>5300.000000</td>\n",
       "      <td>0.000000</td>\n",
       "      <td>0.000000</td>\n",
       "    </tr>\n",
       "    <tr>\n",
       "      <th>25%</th>\n",
       "      <td>0.000000</td>\n",
       "      <td>24.000000</td>\n",
       "      <td>33300.000000</td>\n",
       "      <td>0.000000</td>\n",
       "      <td>0.000000</td>\n",
       "    </tr>\n",
       "    <tr>\n",
       "      <th>50%</th>\n",
       "      <td>0.000000</td>\n",
       "      <td>30.000000</td>\n",
       "      <td>40200.000000</td>\n",
       "      <td>1.000000</td>\n",
       "      <td>0.000000</td>\n",
       "    </tr>\n",
       "    <tr>\n",
       "      <th>75%</th>\n",
       "      <td>1.000000</td>\n",
       "      <td>37.000000</td>\n",
       "      <td>46600.000000</td>\n",
       "      <td>2.000000</td>\n",
       "      <td>0.000000</td>\n",
       "    </tr>\n",
       "    <tr>\n",
       "      <th>max</th>\n",
       "      <td>1.000000</td>\n",
       "      <td>65.000000</td>\n",
       "      <td>79000.000000</td>\n",
       "      <td>6.000000</td>\n",
       "      <td>5.000000</td>\n",
       "    </tr>\n",
       "  </tbody>\n",
       "</table>\n",
       "</div>"
      ],
      "text/plain": [
       "               sex          age          wage     n_family  \\\n",
       "count  5000.000000  5000.000000   5000.000000  5000.000000   \n",
       "mean      0.499000    30.952800  39916.360000     1.194200   \n",
       "std       0.500049     8.440807   9900.083569     1.091387   \n",
       "min       0.000000    18.000000   5300.000000     0.000000   \n",
       "25%       0.000000    24.000000  33300.000000     0.000000   \n",
       "50%       0.000000    30.000000  40200.000000     1.000000   \n",
       "75%       1.000000    37.000000  46600.000000     2.000000   \n",
       "max       1.000000    65.000000  79000.000000     6.000000   \n",
       "\n",
       "       n_insurance_payments  \n",
       "count           5000.000000  \n",
       "mean               0.148000  \n",
       "std                0.463183  \n",
       "min                0.000000  \n",
       "25%                0.000000  \n",
       "50%                0.000000  \n",
       "75%                0.000000  \n",
       "max                5.000000  "
      ]
     },
     "execution_count": 5,
     "metadata": {},
     "output_type": "execute_result"
    }
   ],
   "source": [
    "# Описательная статистика\n",
    "df.describe()"
   ]
  },
  {
   "cell_type": "code",
   "execution_count": 6,
   "id": "d443e4ad",
   "metadata": {},
   "outputs": [
    {
     "data": {
      "text/html": [
       "<div>\n",
       "<style scoped>\n",
       "    .dataframe tbody tr th:only-of-type {\n",
       "        vertical-align: middle;\n",
       "    }\n",
       "\n",
       "    .dataframe tbody tr th {\n",
       "        vertical-align: top;\n",
       "    }\n",
       "\n",
       "    .dataframe thead th {\n",
       "        text-align: right;\n",
       "    }\n",
       "</style>\n",
       "<table border=\"1\" class=\"dataframe\">\n",
       "  <thead>\n",
       "    <tr style=\"text-align: right;\">\n",
       "      <th></th>\n",
       "      <th>sex</th>\n",
       "      <th>age</th>\n",
       "      <th>wage</th>\n",
       "      <th>n_family</th>\n",
       "      <th>n_insurance_payments</th>\n",
       "    </tr>\n",
       "  </thead>\n",
       "  <tbody>\n",
       "    <tr>\n",
       "      <th>sex</th>\n",
       "      <td>1.000000</td>\n",
       "      <td>0.002074</td>\n",
       "      <td>0.014910</td>\n",
       "      <td>-0.008991</td>\n",
       "      <td>0.010140</td>\n",
       "    </tr>\n",
       "    <tr>\n",
       "      <th>age</th>\n",
       "      <td>0.002074</td>\n",
       "      <td>1.000000</td>\n",
       "      <td>-0.019093</td>\n",
       "      <td>-0.006692</td>\n",
       "      <td>0.651030</td>\n",
       "    </tr>\n",
       "    <tr>\n",
       "      <th>wage</th>\n",
       "      <td>0.014910</td>\n",
       "      <td>-0.019093</td>\n",
       "      <td>1.000000</td>\n",
       "      <td>-0.030296</td>\n",
       "      <td>-0.014963</td>\n",
       "    </tr>\n",
       "    <tr>\n",
       "      <th>n_family</th>\n",
       "      <td>-0.008991</td>\n",
       "      <td>-0.006692</td>\n",
       "      <td>-0.030296</td>\n",
       "      <td>1.000000</td>\n",
       "      <td>-0.036290</td>\n",
       "    </tr>\n",
       "    <tr>\n",
       "      <th>n_insurance_payments</th>\n",
       "      <td>0.010140</td>\n",
       "      <td>0.651030</td>\n",
       "      <td>-0.014963</td>\n",
       "      <td>-0.036290</td>\n",
       "      <td>1.000000</td>\n",
       "    </tr>\n",
       "  </tbody>\n",
       "</table>\n",
       "</div>"
      ],
      "text/plain": [
       "                           sex       age      wage  n_family  \\\n",
       "sex                   1.000000  0.002074  0.014910 -0.008991   \n",
       "age                   0.002074  1.000000 -0.019093 -0.006692   \n",
       "wage                  0.014910 -0.019093  1.000000 -0.030296   \n",
       "n_family             -0.008991 -0.006692 -0.030296  1.000000   \n",
       "n_insurance_payments  0.010140  0.651030 -0.014963 -0.036290   \n",
       "\n",
       "                      n_insurance_payments  \n",
       "sex                               0.010140  \n",
       "age                               0.651030  \n",
       "wage                             -0.014963  \n",
       "n_family                         -0.036290  \n",
       "n_insurance_payments              1.000000  "
      ]
     },
     "execution_count": 6,
     "metadata": {},
     "output_type": "execute_result"
    }
   ],
   "source": [
    "# Матрица корреляции\n",
    "df.corr()"
   ]
  },
  {
   "cell_type": "markdown",
   "id": "261c16c7",
   "metadata": {},
   "source": [
    "## 2. Алгоритм защиты данных"
   ]
  },
  {
   "cell_type": "markdown",
   "id": "24648df1",
   "metadata": {},
   "source": [
    "### 2.1 Умножение признаков на обратимую (невырожденную) матрицу"
   ]
  },
  {
   "cell_type": "markdown",
   "id": "ebb1c916",
   "metadata": {},
   "source": [
    "Из теории линейной алгебры следует, что необходимым и достаточным условием обратимости матрицы является **НЕРАВЕНСТВО определителя матрицы 0**. Поэтому создадим случайную матрицу, у которой определитель не будет равным 0."
   ]
  },
  {
   "cell_type": "code",
   "execution_count": 7,
   "id": "ed66c0bc",
   "metadata": {
    "scrolled": true
   },
   "outputs": [
    {
     "name": "stdout",
     "output_type": "stream",
     "text": [
      "Общее число итераций подбора случайной невырожденной матрицы: 1\n",
      "\n",
      "Матрица линейного преобразования признаков:\n",
      "[[0.92961609 0.31637555 0.18391881 0.20456028]\n",
      " [0.56772503 0.5955447  0.96451452 0.6531771 ]\n",
      " [0.74890664 0.65356987 0.74771481 0.96130674]\n",
      " [0.0083883  0.10644438 0.29870371 0.65641118]]\n",
      "\n",
      "Определитель матрицы равен: -0.055\n",
      "\n",
      "Обратная матрица равна (матрица дешифровки данных):\n",
      "[[ 2.1336149   0.5051926  -1.71113385  1.33832486]\n",
      " [-3.76534462 -2.61352053  6.72316006 -6.07193701]\n",
      " [ 0.97426298  2.9928115  -3.49875049  1.84220045]\n",
      " [ 0.13998298 -0.94454066  0.52375812  1.652661  ]]\n"
     ]
    }
   ],
   "source": [
    "# Создадим случайную обратимую матрице для линейного преобразования признаков\n",
    "\n",
    "# Сначала создаем нулевую квадратную матрицу размером 4х4\n",
    "# Определитель этой матрицы равняется 0, т. е. для нее не существует обратной.\n",
    "encoding_matrix = np.zeros((features.shape[1], features.shape[1]))\n",
    "\n",
    "# Счетчик итераций подбора случайной матрицы.\n",
    "i=0\n",
    "\n",
    "# Хоть вероятность того, что случайная матрица окажется вырожденной\n",
    "# крайне мала, все же стоит избежать этой случайности и запустить цикл\n",
    "while np.linalg.det(encoding_matrix) == 0:\n",
    "    random_state = RandomState(12345+i) # фиксируем случайное состояние (пока рано заниматься динамическим шифрованием)\n",
    "    encoding_matrix = random_state.random(size=(features.shape[1], features.shape[1]))\n",
    "    i += 1\n",
    " \n",
    "decoding_matrix = np.linalg.inv(encoding_matrix)\n",
    "print('Общее число итераций подбора случайной невырожденной матрицы:', i)\n",
    "print()\n",
    "print('Матрица линейного преобразования признаков:')\n",
    "print(encoding_matrix)\n",
    "print()\n",
    "print(f'Определитель матрицы равен: {np.linalg.det(encoding_matrix):.2}')\n",
    "print()\n",
    "print('Обратная матрица равна (матрица дешифровки данных):')\n",
    "print(decoding_matrix)"
   ]
  },
  {
   "cell_type": "markdown",
   "id": "026a39b3",
   "metadata": {},
   "source": [
    "### 2.2 Доказательство невлияния на метрику"
   ]
  },
  {
   "cell_type": "markdown",
   "id": "4fee386b",
   "metadata": {},
   "source": [
    "В данном разделе мы будем пользоваться свойствами операторов транспонирования и свойствами обратных матриц.\n",
    "\n",
    "\n",
    "Пусть есть модель линейной регрессии ($w_0$ включено в матрицу $w$):\n",
    "$$\\hat{y} = w*x$$\n",
    "Веса в этой модели будут равны:\n",
    "$$w^* = (x^T*x)^{-1}*x^T*y$$\n",
    "\n",
    "\n",
    "Теперь рассмотрим другую модель с зашифрованной матрицей признаков путем линейного преобразования:\n",
    "$$\\tilde{y} = \\tilde{w}*\\tilde{x}$$\n",
    "\n",
    "где $\\tilde{x} = x*C$ (C -  квадратная невырожденная матрица преобразования).\n",
    "Тогда веса новой модели будут рассчитаны следующим образом:\n",
    "\n",
    "$$\\tilde{w^*} = (\\tilde{x}^T*\\tilde{x})^{-1}*\\tilde{x}^T*y$$\n",
    "\n",
    "Коэффициент детерминации - это доля десперсии модели от дисперсии истинных значений. Доля десперсии модели  - это дисперсия отклонений предсказаний модели от истинных значений. Если мы покажем, предсказания обеих моделей совпадают, то и метрики этих моделей будут совпадать.\n",
    "\n",
    "$$\\hat{\\tilde{y}} = \\tilde{w}*\\hat{\\tilde{x}} = (\\tilde{x}^T*\\tilde{x})^{-1}*\\tilde{x}^T*y*\\tilde{x} = ((x*C)^T*x*C)^{-1}*(x*C)^T*y*x*C $$\n",
    "\n",
    "Рассмотрим отдельно:\n",
    "$$((x*C)^T*x*C)^{-1} = [C^T*(x^T*x)*C]^{-1} = C^{-1}*(x^T*x)*(C^T)^{-1}$$\n",
    "\n",
    "Подставляем данное выражение и получаем:\n",
    "\n",
    "$$((x*C)^T*x*C)^{-1}*(x*C)^T*y*x*C =$$ \n",
    "\n",
    "$$= C^{-1}*(x^T*x)*(C^T)^{-1}*C^T*x^T*y*x*C = C^{-1}*(x^T*x)*x^T*y*x*C = $$\n",
    "$$=C^{-1}*w*x*C = C^{-1}*\\hat{y}*C = \\hat{y}$$\n",
    "\n",
    "Таким образом, предсказания обеих моделей (с шифровкой и без совпадают, а значит и метрики будут совпадать)"
   ]
  },
  {
   "cell_type": "markdown",
   "id": "78a06744",
   "metadata": {},
   "source": [
    "### Краткие выводы по разделу 2\n",
    "* В качестве алгоритма шифрования выбрано линейное преобразование признаков путем матричного умножения\n",
    "* Случайным образом определена матрица линейного преобразования\n",
    "* Было доказано, что линейное преобразование признаков не меняет значение коэффициента детерминации"
   ]
  },
  {
   "cell_type": "markdown",
   "id": "3c78c77a",
   "metadata": {},
   "source": [
    "## 3. Шифровка данных (исходных признаков)"
   ]
  },
  {
   "cell_type": "code",
   "execution_count": 8,
   "id": "72dac34d",
   "metadata": {},
   "outputs": [
    {
     "data": {
      "text/plain": [
       "array([[37169.98395227, 32441.905747  , 37126.68225769, 47708.45534165],\n",
       "       [28484.57596592, 24863.15659308, 28457.82912393, 36560.35852841],\n",
       "       [15743.50341406, 13742.23808427, 15729.98191577, 20206.38359334],\n",
       "       ...,\n",
       "       [25399.30628958, 22168.14240469, 25367.41973212, 32602.67471717],\n",
       "       [24502.69177899, 21385.472469  , 24472.57361256, 31451.27395954],\n",
       "       [30422.44378908, 26552.0348282 , 30384.71028549, 39048.20341473]])"
      ]
     },
     "execution_count": 8,
     "metadata": {},
     "output_type": "execute_result"
    }
   ],
   "source": [
    "# Шифруем исходные признаки с помощью матрицы преобразования сохраняем в отдельную переменную\n",
    "features_encoded = features.values @ encoding_matrix\n",
    "features_encoded"
   ]
  },
  {
   "cell_type": "code",
   "execution_count": 9,
   "id": "4a1db564",
   "metadata": {
    "scrolled": true
   },
   "outputs": [
    {
     "data": {
      "text/html": [
       "<div>\n",
       "<style scoped>\n",
       "    .dataframe tbody tr th:only-of-type {\n",
       "        vertical-align: middle;\n",
       "    }\n",
       "\n",
       "    .dataframe tbody tr th {\n",
       "        vertical-align: top;\n",
       "    }\n",
       "\n",
       "    .dataframe thead th {\n",
       "        text-align: right;\n",
       "    }\n",
       "</style>\n",
       "<table border=\"1\" class=\"dataframe\">\n",
       "  <thead>\n",
       "    <tr style=\"text-align: right;\">\n",
       "      <th></th>\n",
       "      <th>0</th>\n",
       "      <th>1</th>\n",
       "      <th>2</th>\n",
       "      <th>3</th>\n",
       "    </tr>\n",
       "  </thead>\n",
       "  <tbody>\n",
       "    <tr>\n",
       "      <th>0</th>\n",
       "      <td>1.0</td>\n",
       "      <td>41.0</td>\n",
       "      <td>49600.0</td>\n",
       "      <td>1.0</td>\n",
       "    </tr>\n",
       "    <tr>\n",
       "      <th>1</th>\n",
       "      <td>-0.0</td>\n",
       "      <td>46.0</td>\n",
       "      <td>38000.0</td>\n",
       "      <td>1.0</td>\n",
       "    </tr>\n",
       "    <tr>\n",
       "      <th>2</th>\n",
       "      <td>0.0</td>\n",
       "      <td>29.0</td>\n",
       "      <td>21000.0</td>\n",
       "      <td>0.0</td>\n",
       "    </tr>\n",
       "    <tr>\n",
       "      <th>3</th>\n",
       "      <td>-0.0</td>\n",
       "      <td>21.0</td>\n",
       "      <td>41700.0</td>\n",
       "      <td>2.0</td>\n",
       "    </tr>\n",
       "    <tr>\n",
       "      <th>4</th>\n",
       "      <td>1.0</td>\n",
       "      <td>28.0</td>\n",
       "      <td>26100.0</td>\n",
       "      <td>-0.0</td>\n",
       "    </tr>\n",
       "    <tr>\n",
       "      <th>...</th>\n",
       "      <td>...</td>\n",
       "      <td>...</td>\n",
       "      <td>...</td>\n",
       "      <td>...</td>\n",
       "    </tr>\n",
       "    <tr>\n",
       "      <th>4995</th>\n",
       "      <td>-0.0</td>\n",
       "      <td>28.0</td>\n",
       "      <td>35700.0</td>\n",
       "      <td>2.0</td>\n",
       "    </tr>\n",
       "    <tr>\n",
       "      <th>4996</th>\n",
       "      <td>-0.0</td>\n",
       "      <td>34.0</td>\n",
       "      <td>52400.0</td>\n",
       "      <td>1.0</td>\n",
       "    </tr>\n",
       "    <tr>\n",
       "      <th>4997</th>\n",
       "      <td>-0.0</td>\n",
       "      <td>20.0</td>\n",
       "      <td>33900.0</td>\n",
       "      <td>2.0</td>\n",
       "    </tr>\n",
       "    <tr>\n",
       "      <th>4998</th>\n",
       "      <td>1.0</td>\n",
       "      <td>22.0</td>\n",
       "      <td>32700.0</td>\n",
       "      <td>3.0</td>\n",
       "    </tr>\n",
       "    <tr>\n",
       "      <th>4999</th>\n",
       "      <td>1.0</td>\n",
       "      <td>28.0</td>\n",
       "      <td>40600.0</td>\n",
       "      <td>1.0</td>\n",
       "    </tr>\n",
       "  </tbody>\n",
       "</table>\n",
       "<p>5000 rows × 4 columns</p>\n",
       "</div>"
      ],
      "text/plain": [
       "        0     1        2    3\n",
       "0     1.0  41.0  49600.0  1.0\n",
       "1    -0.0  46.0  38000.0  1.0\n",
       "2     0.0  29.0  21000.0  0.0\n",
       "3    -0.0  21.0  41700.0  2.0\n",
       "4     1.0  28.0  26100.0 -0.0\n",
       "...   ...   ...      ...  ...\n",
       "4995 -0.0  28.0  35700.0  2.0\n",
       "4996 -0.0  34.0  52400.0  1.0\n",
       "4997 -0.0  20.0  33900.0  2.0\n",
       "4998  1.0  22.0  32700.0  3.0\n",
       "4999  1.0  28.0  40600.0  1.0\n",
       "\n",
       "[5000 rows x 4 columns]"
      ]
     },
     "execution_count": 9,
     "metadata": {},
     "output_type": "execute_result"
    }
   ],
   "source": [
    "# ПРОВЕРКА: дешифровка признаков\n",
    "round(pd.DataFrame(features_encoded @ decoding_matrix), 1)"
   ]
  },
  {
   "cell_type": "markdown",
   "id": "83d291b3",
   "metadata": {},
   "source": [
    "### Краткие выводы по разделу 3\n",
    "* Шифровка данных с помощью линейного преобразования корректна, но неточности возникают в силу принципов округления чисел в питоне"
   ]
  },
  {
   "cell_type": "markdown",
   "id": "f417d7de",
   "metadata": {},
   "source": [
    "## 4. Построение моделей линейных регрессий"
   ]
  },
  {
   "cell_type": "markdown",
   "id": "0bae8f3c",
   "metadata": {},
   "source": [
    "### 4.1 Построение линейной регрессии на исходных (незашифрованных) данных"
   ]
  },
  {
   "cell_type": "code",
   "execution_count": 10,
   "id": "96847fb9",
   "metadata": {},
   "outputs": [
    {
     "name": "stdout",
     "output_type": "stream",
     "text": [
      "Коэффициент детерминации модели на исходных данных равен: 0.4249455028666801\n"
     ]
    }
   ],
   "source": [
    "# Построение модели\n",
    "model = LinearRegression()\n",
    "model = model.fit(features, target)\n",
    "\n",
    "# По умолчанию оценка линейной регрессии это коэффициент детерминации\n",
    "r2 = model.score(features, target)\n",
    "print('Коэффициент детерминации модели на исходных данных равен:', r2)"
   ]
  },
  {
   "cell_type": "markdown",
   "id": "1bab986a",
   "metadata": {},
   "source": [
    "### 4.2 Построение линейной регрессии на зашифрованных данных"
   ]
  },
  {
   "cell_type": "code",
   "execution_count": 11,
   "id": "dc45b1a7",
   "metadata": {},
   "outputs": [
    {
     "name": "stdout",
     "output_type": "stream",
     "text": [
      "Коэффициент детерминации модели на зашифрованных данных равен: 0.4249455028667376\n"
     ]
    }
   ],
   "source": [
    "model_encoded = LinearRegression()\n",
    "model_encoded = model.fit(features_encoded, target)\n",
    "r2_encoded = model.score(features_encoded, target)\n",
    "print('Коэффициент детерминации модели на зашифрованных данных равен:', r2_encoded)"
   ]
  },
  {
   "cell_type": "code",
   "execution_count": 17,
   "id": "871cb136",
   "metadata": {},
   "outputs": [],
   "source": [
    "# Функция сравнения чисел сточностью до заданного порядка\n",
    "def compare_numbers(a, b, order=45):\n",
    "    i=0\n",
    "    while (round(a, i) == round(b, i)) and (i<order):\n",
    "        i += 1\n",
    "    \n",
    "    if i>0:\n",
    "        print(f'Числа равны с точностью {i-1} знаков после запятой.')\n",
    "    else:\n",
    "        print(f'Числа не равны.')\n",
    "        "
   ]
  },
  {
   "cell_type": "code",
   "execution_count": 18,
   "id": "61129b70",
   "metadata": {},
   "outputs": [
    {
     "name": "stdout",
     "output_type": "stream",
     "text": [
      "Числа равны с точностью 0 знаков после запятой.\n"
     ]
    }
   ],
   "source": [
    "compare_numbers(np.e, np.pi)"
   ]
  },
  {
   "cell_type": "code",
   "execution_count": 38,
   "id": "b7fc25f4",
   "metadata": {},
   "outputs": [
    {
     "name": "stdout",
     "output_type": "stream",
     "text": [
      "Числа равны с точностью 14 знаков после запятой.\n"
     ]
    }
   ],
   "source": [
    "compare_numbers(r2, r2_encoded, 13)"
   ]
  },
  {
   "cell_type": "markdown",
   "id": "f6c82e76",
   "metadata": {},
   "source": [
    "### Краткие выводы по разделу 4\n",
    "* Оценены линейные регрессии на исходных и зашифрованных данных.\n",
    "* С точностью до 14 знаков после запятой коэффициенты детерминации этих моделей равны (неточность возникает в силу особенностьей округления в Python)"
   ]
  },
  {
   "cell_type": "markdown",
   "id": "c7f2d312",
   "metadata": {},
   "source": [
    "## Общие выводы\n",
    "* Линейное преобразование признаков не сказывается на качестве моделей линейной регрессии\n",
    "* Коэффициент детерминации в модели составил порядка 0,425. Это означает, что примерно 42,5% вариации числа страховых выплат можно объяснить представленными признаками (пол, возраст, зарплата, число челенов семьи)"
   ]
  },
  {
   "cell_type": "code",
   "execution_count": null,
   "id": "53f3d820",
   "metadata": {},
   "outputs": [],
   "source": []
  }
 ],
 "metadata": {
  "ExecuteTimeLog": [
   {
    "duration": 1104,
    "start_time": "2022-07-20T09:35:01.029Z"
   },
   {
    "duration": 283,
    "start_time": "2022-07-20T09:35:02.135Z"
   },
   {
    "duration": 8,
    "start_time": "2022-07-20T09:35:02.431Z"
   },
   {
    "duration": 25,
    "start_time": "2022-07-20T09:35:02.441Z"
   },
   {
    "duration": 12,
    "start_time": "2022-07-20T09:35:02.468Z"
   },
   {
    "duration": 73,
    "start_time": "2022-07-20T09:35:02.482Z"
   },
   {
    "duration": 36,
    "start_time": "2022-07-20T09:35:02.614Z"
   },
   {
    "duration": 22,
    "start_time": "2022-07-20T09:35:02.652Z"
   },
   {
    "duration": 124,
    "start_time": "2022-07-20T09:35:02.716Z"
   },
   {
    "duration": 200,
    "start_time": "2022-07-20T09:35:02.848Z"
   },
   {
    "duration": 8,
    "start_time": "2022-07-20T09:35:03.050Z"
   },
   {
    "duration": 1089,
    "start_time": "2022-07-20T09:36:46.574Z"
   },
   {
    "duration": 121,
    "start_time": "2022-07-20T09:36:47.667Z"
   },
   {
    "duration": 3,
    "start_time": "2022-07-20T09:36:47.790Z"
   },
   {
    "duration": 20,
    "start_time": "2022-07-20T09:36:47.795Z"
   },
   {
    "duration": 7,
    "start_time": "2022-07-20T09:36:47.818Z"
   },
   {
    "duration": 16,
    "start_time": "2022-07-20T09:36:47.827Z"
   },
   {
    "duration": 17,
    "start_time": "2022-07-20T09:36:47.904Z"
   },
   {
    "duration": 97,
    "start_time": "2022-07-20T09:36:47.923Z"
   },
   {
    "duration": 91,
    "start_time": "2022-07-20T09:36:48.022Z"
   },
   {
    "duration": 198,
    "start_time": "2022-07-20T09:36:48.117Z"
   },
   {
    "duration": 7,
    "start_time": "2022-07-20T09:36:48.316Z"
   }
  ],
  "kernelspec": {
   "display_name": "Python 3 (ipykernel)",
   "language": "python",
   "name": "python3"
  },
  "language_info": {
   "codemirror_mode": {
    "name": "ipython",
    "version": 3
   },
   "file_extension": ".py",
   "mimetype": "text/x-python",
   "name": "python",
   "nbconvert_exporter": "python",
   "pygments_lexer": "ipython3",
   "version": "3.9.12"
  },
  "toc": {
   "base_numbering": 1,
   "nav_menu": {},
   "number_sections": true,
   "sideBar": true,
   "skip_h1_title": true,
   "title_cell": "Table of Contents",
   "title_sidebar": "Contents",
   "toc_cell": false,
   "toc_position": {},
   "toc_section_display": true,
   "toc_window_display": false
  }
 },
 "nbformat": 4,
 "nbformat_minor": 5
}
